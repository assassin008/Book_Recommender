{
  "nbformat": 4,
  "nbformat_minor": 0,
  "metadata": {
    "colab": {
      "provenance": [],
      "gpuType": "T4"
    },
    "kernelspec": {
      "name": "python3",
      "display_name": "Python 3"
    },
    "language_info": {
      "name": "python"
    },
    "accelerator": "GPU"
  },
  "cells": [
    {
      "cell_type": "code",
      "execution_count": 1,
      "metadata": {
        "colab": {
          "base_uri": "https://localhost:8080/"
        },
        "id": "mTIrtN1BLrrR",
        "outputId": "45ffce8a-bcbe-4767-9aa5-cb08d8006604"
      },
      "outputs": [
        {
          "output_type": "stream",
          "name": "stdout",
          "text": [
            "Collecting surprise\n",
            "  Downloading surprise-0.1-py2.py3-none-any.whl (1.8 kB)\n",
            "Collecting scikit-surprise (from surprise)\n",
            "  Downloading scikit-surprise-1.1.3.tar.gz (771 kB)\n",
            "\u001b[2K     \u001b[90m━━━━━━━━━━━━━━━━━━━━━━━━━━━━━━━━━━━━━━━━\u001b[0m \u001b[32m772.0/772.0 kB\u001b[0m \u001b[31m4.6 MB/s\u001b[0m eta \u001b[36m0:00:00\u001b[0m\n",
            "\u001b[?25h  Preparing metadata (setup.py) ... \u001b[?25l\u001b[?25hdone\n",
            "Requirement already satisfied: joblib>=1.0.0 in /usr/local/lib/python3.10/dist-packages (from scikit-surprise->surprise) (1.3.2)\n",
            "Requirement already satisfied: numpy>=1.17.3 in /usr/local/lib/python3.10/dist-packages (from scikit-surprise->surprise) (1.23.5)\n",
            "Requirement already satisfied: scipy>=1.3.2 in /usr/local/lib/python3.10/dist-packages (from scikit-surprise->surprise) (1.11.4)\n",
            "Building wheels for collected packages: scikit-surprise\n",
            "  Building wheel for scikit-surprise (setup.py) ... \u001b[?25l\u001b[?25hdone\n",
            "  Created wheel for scikit-surprise: filename=scikit_surprise-1.1.3-cp310-cp310-linux_x86_64.whl size=3162659 sha256=a0b43702741fdb650d4a6969f2843d0e0f27783b75fbd19013d384844600837e\n",
            "  Stored in directory: /root/.cache/pip/wheels/a5/ca/a8/4e28def53797fdc4363ca4af740db15a9c2f1595ebc51fb445\n",
            "Successfully built scikit-surprise\n",
            "Installing collected packages: scikit-surprise, surprise\n",
            "Successfully installed scikit-surprise-1.1.3 surprise-0.1\n"
          ]
        }
      ],
      "source": [
        "!pip3 install surprise"
      ]
    },
    {
      "cell_type": "code",
      "source": [
        "import surprise\n",
        "import pandas as pd\n",
        "from surprise import Reader"
      ],
      "metadata": {
        "id": "sXD4BPDzLxu-"
      },
      "execution_count": 11,
      "outputs": []
    },
    {
      "cell_type": "code",
      "source": [
        "from surprise import Dataset\n",
        "\n",
        "movie_data = Dataset.load_builtin('ml-100k')"
      ],
      "metadata": {
        "colab": {
          "base_uri": "https://localhost:8080/"
        },
        "id": "y-6D2ux-LxyK",
        "outputId": "0cb0eafa-c7c2-4873-a88e-36e2c72db620"
      },
      "execution_count": 3,
      "outputs": [
        {
          "output_type": "stream",
          "name": "stdout",
          "text": [
            "Dataset ml-100k could not be found. Do you want to download it? [Y/n] Y\n",
            "Trying to download dataset from https://files.grouplens.org/datasets/movielens/ml-100k.zip...\n",
            "Done! Dataset ml-100k has been saved to /root/.surprise_data/ml-100k\n"
          ]
        }
      ]
    },
    {
      "cell_type": "code",
      "source": [
        "from google.colab import drive\n",
        "drive.mount('/content/drive')\n"
      ],
      "metadata": {
        "colab": {
          "base_uri": "https://localhost:8080/"
        },
        "id": "UISX1G6SLx1k",
        "outputId": "9f65f473-e461-4c4c-981d-a7588aef47eb"
      },
      "execution_count": 15,
      "outputs": [
        {
          "output_type": "stream",
          "name": "stdout",
          "text": [
            "Mounted at /content/drive\n"
          ]
        }
      ]
    },
    {
      "cell_type": "code",
      "source": [
        "!ls"
      ],
      "metadata": {
        "colab": {
          "base_uri": "https://localhost:8080/"
        },
        "id": "7JIkfVcJLx93",
        "outputId": "0b7ed95a-8696-4ca9-e825-c1e2626b4fc8"
      },
      "execution_count": 16,
      "outputs": [
        {
          "output_type": "stream",
          "name": "stdout",
          "text": [
            "drive  goodreads_ratings.csv  sample_data\n"
          ]
        }
      ]
    },
    {
      "cell_type": "code",
      "source": [
        "book_ratings = pd.read_csv('goodreads_ratings.csv')\n",
        "print(book_ratings.head())"
      ],
      "metadata": {
        "colab": {
          "base_uri": "https://localhost:8080/"
        },
        "id": "9sZEzV6_LyBZ",
        "outputId": "61a330e3-068b-4602-e04c-462526ad18c4"
      },
      "execution_count": 17,
      "outputs": [
        {
          "output_type": "stream",
          "name": "stdout",
          "text": [
            "                            user_id   book_id  \\\n",
            "0  d089c9b670c0b0b339353aebbace46a1   7686667   \n",
            "1  6dcb2c16e12a41ae0c6c38e9d46f3292  18073066   \n",
            "2  244e0ce681148a7586d7746676093ce9  13610986   \n",
            "3  73fcc25ff29f8b73b3a7578aec846394  27274343   \n",
            "4  f8880e158a163388a990b64fec7df300  11614718   \n",
            "\n",
            "                          review_id  rating  \\\n",
            "0  3337e0e75701f7f682de11638ccdc60c       3   \n",
            "1  7201aa3c1161f2bad81258b6d4686c16       5   \n",
            "2  07a203f87bfe1b65ff58774667f6f80d       5   \n",
            "3  8be2d87b07098c16f9742020ec459383       1   \n",
            "4  a29c4ba03e33ad073a414ac775266c5f       4   \n",
            "\n",
            "                                         review_text  \\\n",
            "0  Like Matched, this book felt like it was echoi...   \n",
            "1  WOW again! 4,5 Stars \\n So i wont forget to me...   \n",
            "2  The second novel was hot & heavy. Not only in ...   \n",
            "3  What a maddening waste of time. And I unfortun...   \n",
            "4  4.5 stars! \\n This was an awesome read! \\n So ...   \n",
            "\n",
            "                       date_added                    date_updated  \\\n",
            "0  Fri Apr 29 14:45:32 -0700 2011  Mon Feb 02 12:57:57 -0800 2015   \n",
            "1  Thu Aug 01 02:15:18 -0700 2013  Mon Nov 18 14:49:26 -0800 2013   \n",
            "2  Sun Nov 23 18:17:50 -0800 2014  Sat May 16 20:34:19 -0700 2015   \n",
            "3  Mon Oct 31 08:29:06 -0700 2016  Wed Apr 26 16:06:28 -0700 2017   \n",
            "4  Tue Mar 26 10:55:30 -0700 2013  Mon Sep 08 09:57:05 -0700 2014   \n",
            "\n",
            "                          read_at                      started_at  n_votes  \\\n",
            "0  Sat Jun 18 00:00:00 -0700 2011  Thu May 19 00:00:00 -0700 2011        0   \n",
            "1  Mon Aug 19 00:00:00 -0700 2013  Mon Aug 12 00:00:00 -0700 2013       16   \n",
            "2  Fri Dec 19 00:00:00 -0800 2014  Sun Nov 23 00:00:00 -0800 2014        0   \n",
            "3  Wed Apr 26 16:06:28 -0700 2017  Sun Apr 23 00:00:00 -0700 2017        0   \n",
            "4  Sun Apr 20 09:26:41 -0700 2014  Fri Apr 18 00:00:00 -0700 2014        0   \n",
            "\n",
            "   n_comments  \n",
            "0           0  \n",
            "1          14  \n",
            "2           0  \n",
            "3           1  \n",
            "4           0  \n"
          ]
        }
      ]
    },
    {
      "cell_type": "code",
      "source": [
        "book_ratings.info()"
      ],
      "metadata": {
        "colab": {
          "base_uri": "https://localhost:8080/"
        },
        "id": "XfiaUAO_LyFT",
        "outputId": "66252c85-8f83-4572-f5e2-00ef674ae05c"
      },
      "execution_count": 18,
      "outputs": [
        {
          "output_type": "stream",
          "name": "stdout",
          "text": [
            "<class 'pandas.core.frame.DataFrame'>\n",
            "RangeIndex: 3500 entries, 0 to 3499\n",
            "Data columns (total 11 columns):\n",
            " #   Column        Non-Null Count  Dtype \n",
            "---  ------        --------------  ----- \n",
            " 0   user_id       3500 non-null   object\n",
            " 1   book_id       3500 non-null   int64 \n",
            " 2   review_id     3500 non-null   object\n",
            " 3   rating        3500 non-null   int64 \n",
            " 4   review_text   3500 non-null   object\n",
            " 5   date_added    3500 non-null   object\n",
            " 6   date_updated  3500 non-null   object\n",
            " 7   read_at       3167 non-null   object\n",
            " 8   started_at    2395 non-null   object\n",
            " 9   n_votes       3500 non-null   int64 \n",
            " 10  n_comments    3500 non-null   int64 \n",
            "dtypes: int64(4), object(7)\n",
            "memory usage: 300.9+ KB\n"
          ]
        }
      ]
    },
    {
      "cell_type": "code",
      "source": [
        "# Calculating the distribution of ratings\n",
        "rating_distribution = book_ratings['rating'].value_counts().sort_index()\n",
        "\n",
        "print(rating_distribution)\n"
      ],
      "metadata": {
        "colab": {
          "base_uri": "https://localhost:8080/"
        },
        "id": "RzCFsuL5LyOs",
        "outputId": "fab399ce-68fc-495c-88c5-b5d19841d632"
      },
      "execution_count": 19,
      "outputs": [
        {
          "output_type": "stream",
          "name": "stdout",
          "text": [
            "0     120\n",
            "1     125\n",
            "2     269\n",
            "3     707\n",
            "4    1278\n",
            "5    1001\n",
            "Name: rating, dtype: int64\n"
          ]
        }
      ]
    },
    {
      "cell_type": "code",
      "source": [
        "# Filtering out ratings that are not in the range of 1 to 5\n",
        "filtered_book_ratings = book_ratings[(book_ratings['rating'] >= 1) & (book_ratings['rating'] <= 5)]\n",
        "\n",
        "print(filtered_book_ratings['rating'].value_counts().sort_index())\n"
      ],
      "metadata": {
        "colab": {
          "base_uri": "https://localhost:8080/"
        },
        "id": "dSq2sZ9cLz0F",
        "outputId": "fd3c57e1-9c3e-4b72-b775-be0920998212"
      },
      "execution_count": 20,
      "outputs": [
        {
          "output_type": "stream",
          "name": "stdout",
          "text": [
            "1     125\n",
            "2     269\n",
            "3     707\n",
            "4    1278\n",
            "5    1001\n",
            "Name: rating, dtype: int64\n"
          ]
        }
      ]
    },
    {
      "cell_type": "code",
      "source": [
        "from surprise import Reader\n",
        "\n",
        "# Define the rating scale\n",
        "rating_scale = (1, 5)\n",
        "\n",
        "# Create the reader object\n",
        "reader = Reader(rating_scale=rating_scale)\n",
        "\n"
      ],
      "metadata": {
        "id": "h6vgjDNNLz2y"
      },
      "execution_count": 21,
      "outputs": []
    },
    {
      "cell_type": "code",
      "source": [
        "\n",
        "data = Dataset.load_from_df(filtered_book_ratings[['user_id', 'book_id', 'rating']], reader)\n",
        "\n"
      ],
      "metadata": {
        "id": "nxwYA8EyLz51"
      },
      "execution_count": 22,
      "outputs": []
    },
    {
      "cell_type": "code",
      "source": [
        "from surprise.model_selection import train_test_split\n",
        "\n",
        "\n",
        "trainset, testset = train_test_split(data, test_size=0.2, random_state=7)\n",
        "\n"
      ],
      "metadata": {
        "id": "3ABzDUfELz8p"
      },
      "execution_count": 23,
      "outputs": []
    },
    {
      "cell_type": "code",
      "source": [
        "from surprise import KNNBasic\n",
        "# Create the KNNBasic model\n",
        "model = KNNBasic()\n",
        "\n",
        "# Train the model on the training set\n",
        "model.fit(trainset)\n"
      ],
      "metadata": {
        "colab": {
          "base_uri": "https://localhost:8080/"
        },
        "id": "jxAPeGw5L0AK",
        "outputId": "47d0b47e-3f79-492c-be40-c08d89f1fd24"
      },
      "execution_count": 25,
      "outputs": [
        {
          "output_type": "stream",
          "name": "stdout",
          "text": [
            "Computing the msd similarity matrix...\n",
            "Done computing similarity matrix.\n"
          ]
        },
        {
          "output_type": "execute_result",
          "data": {
            "text/plain": [
              "<surprise.prediction_algorithms.knns.KNNBasic at 0x7ea9a6526e90>"
            ]
          },
          "metadata": {},
          "execution_count": 25
        }
      ]
    },
    {
      "cell_type": "code",
      "source": [
        "# Example: predict the rating user with user_id \"123\" might give to item with item_id \"456\"\n",
        "prediction = model.predict(\"123\", \"456\")\n",
        "\n",
        "# Print the estimated rating\n",
        "print(prediction.est)\n"
      ],
      "metadata": {
        "colab": {
          "base_uri": "https://localhost:8080/"
        },
        "id": "b37qGjKQL0EL",
        "outputId": "a3761997-57a2-4cdc-c37f-6fe066a2c026"
      },
      "execution_count": 26,
      "outputs": [
        {
          "output_type": "stream",
          "name": "stdout",
          "text": [
            "3.8250739644970415\n"
          ]
        }
      ]
    },
    {
      "cell_type": "code",
      "source": [
        "predictions = model.test(testset)\n"
      ],
      "metadata": {
        "id": "1Y-Op3kPThQC"
      },
      "execution_count": 27,
      "outputs": []
    },
    {
      "cell_type": "code",
      "source": [
        "from surprise import accuracy\n",
        "\n",
        "# Calculate and print the RMSE\n",
        "rmse = accuracy.rmse(predictions)\n"
      ],
      "metadata": {
        "colab": {
          "base_uri": "https://localhost:8080/"
        },
        "id": "5mdSEpMjThSu",
        "outputId": "6b64cfac-7f9f-47ee-fb7f-63a6f29c2647"
      },
      "execution_count": 28,
      "outputs": [
        {
          "output_type": "stream",
          "name": "stdout",
          "text": [
            "RMSE: 1.1105\n"
          ]
        }
      ]
    },
    {
      "cell_type": "code",
      "source": [
        "# Assuming 'model' is your trained KNNBasic model\n",
        "# User ID and Book ID as specified in the prompt\n",
        "user_id = '8842281e1d1347389f2ab93d60773d4d'\n",
        "book_id = '18007564'  # The Martian\n",
        "\n",
        "# Predict the rating\n",
        "prediction = model.predict(user_id, book_id)\n",
        "\n",
        "# Print the estimated rating\n",
        "print(f\"Estimated rating for 'The Martian' by user {user_id}: {prediction.est}\")\n"
      ],
      "metadata": {
        "colab": {
          "base_uri": "https://localhost:8080/"
        },
        "id": "Z66ao4WEThWH",
        "outputId": "a43600d3-ab2a-4f4f-c8ff-bce75887af70"
      },
      "execution_count": 29,
      "outputs": [
        {
          "output_type": "stream",
          "name": "stdout",
          "text": [
            "Estimated rating for 'The Martian' by user 8842281e1d1347389f2ab93d60773d4d: 3.8250739644970415\n"
          ]
        }
      ]
    },
    {
      "cell_type": "code",
      "source": [
        "param_grid = {\n",
        "    'n_factors': [50, 100, 150],  # Number of factors\n",
        "    'n_epochs': [20, 30],  # Number of iterations\n",
        "    'lr_all': [0.005, 0.01],  # Learning rate\n",
        "    'reg_all': [0.02, 0.1]  # Regularization term\n",
        "}\n"
      ],
      "metadata": {
        "id": "_qvEAoysVNiz"
      },
      "execution_count": 32,
      "outputs": []
    },
    {
      "cell_type": "code",
      "source": [
        "from surprise import SVD\n",
        "from surprise import Dataset\n",
        "from surprise import Reader\n",
        "from surprise.model_selection import cross_validate\n",
        "from surprise.model_selection import GridSearchCV\n",
        "\n",
        "gs = GridSearchCV(SVD, param_grid, measures=['rmse'], cv=3)\n",
        "gs.fit(data)\n"
      ],
      "metadata": {
        "id": "XbMJwdmDThcH"
      },
      "execution_count": 34,
      "outputs": []
    },
    {
      "cell_type": "code",
      "source": [
        "# Best RMSE score\n",
        "print(f\"Best RMSE score achieved: {gs.best_score['rmse']}\")\n",
        "\n",
        "# Parameters for the best RMSE score\n",
        "print(f\"Best parameters: {gs.best_params['rmse']}\")\n"
      ],
      "metadata": {
        "colab": {
          "base_uri": "https://localhost:8080/"
        },
        "id": "c_Zg5P2ZL0Hq",
        "outputId": "6ba0fed0-21ae-40e2-a652-76056627ca6c"
      },
      "execution_count": 35,
      "outputs": [
        {
          "output_type": "stream",
          "name": "stdout",
          "text": [
            "Best RMSE score achieved: 1.0500623452130438\n",
            "Best parameters: {'n_factors': 150, 'n_epochs': 30, 'lr_all': 0.01, 'reg_all': 0.02}\n"
          ]
        }
      ]
    },
    {
      "cell_type": "code",
      "source": [
        "best_model = SVD(**gs.best_params['rmse'])\n",
        "# You can use cross_validate to train and evaluate the model on the entire dataset\n",
        "cross_validate(best_model, data, measures=['RMSE'], cv=5, verbose=True)\n"
      ],
      "metadata": {
        "colab": {
          "base_uri": "https://localhost:8080/"
        },
        "id": "_oMlb3wRL0Ls",
        "outputId": "1b6dea38-692a-409b-c5ea-67e7cfd4b323"
      },
      "execution_count": 36,
      "outputs": [
        {
          "output_type": "stream",
          "name": "stdout",
          "text": [
            "Evaluating RMSE of algorithm SVD on 5 split(s).\n",
            "\n",
            "                  Fold 1  Fold 2  Fold 3  Fold 4  Fold 5  Mean    Std     \n",
            "RMSE (testset)    1.0689  1.0489  0.9895  1.0654  1.0786  1.0503  0.0319  \n",
            "Fit time          0.08    0.08    0.09    0.08    0.08    0.08    0.00    \n",
            "Test time         0.00    0.00    0.00    0.00    0.00    0.00    0.00    \n"
          ]
        },
        {
          "output_type": "execute_result",
          "data": {
            "text/plain": [
              "{'test_rmse': array([1.06892437, 1.04887374, 0.98948647, 1.06539558, 1.07857449]),\n",
              " 'fit_time': (0.08071422576904297,\n",
              "  0.07972073554992676,\n",
              "  0.08816361427307129,\n",
              "  0.07747840881347656,\n",
              "  0.08139848709106445),\n",
              " 'test_time': (0.004189968109130859,\n",
              "  0.0027878284454345703,\n",
              "  0.0025751590728759766,\n",
              "  0.0025055408477783203,\n",
              "  0.0025196075439453125)}"
            ]
          },
          "metadata": {},
          "execution_count": 36
        }
      ]
    }
  ]
}